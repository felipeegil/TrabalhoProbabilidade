{
 "cells": [
  {
   "cell_type": "markdown",
   "metadata": {},
   "source": [
    "\n",
    "# Estudo de orçamentos das unidades UFRN\n",
    "- O objetivo desse estudo é analisar o orçamento disponível no ano de 2017 para centros acadêmicos e unidades especializadas de três áreas distintas, sendo estas: Instituto Metrópole Digital (IMD), Ciências da Saúde (CSS) e Ciências Humanas, Letras e Artes (CCHLA). Utilizaremos os dados sobre os gastos das unidades, dísponiveis no portal de dados abertos da univerdade no périodo entre 2013 a 2018. Vale salientar que, embora os gastos não signifiquem o orçamento total que as unidades recebem, é um valor bem aproximado. Sendo assim, para efeito de estudo, estaremos considerando que os gastos são o orçamento total das unidades.\n",
    "- Resultados que esperamos conseguir vizualiar:\n",
    "    - O orçamento de uma unidade especializada é semelhante a de um centro acadêmico.\n",
    "    - Observar a diferença de orçamento para os departamentos de acordo com sua área."
   ]
  },
  {
   "cell_type": "markdown",
   "metadata": {},
   "source": [
    "# Bibliotecas\n",
    "- Pandas: Utilizado para ler, tratar e extrair informações presentes nos arquivos .csv contendo os dados disponíveis no portal.\n",
    "- Matplotlib: Utilizado para plot dos gráficos com as informações extraidas de cada dataset.\n",
    "- Foi utilizado um comando para ignorar o warning \"FutureWarning\", pelo fato do mesmo não influenciar nos resultados."
   ]
  },
  {
   "cell_type": "code",
   "execution_count": 2,
   "metadata": {},
   "outputs": [],
   "source": [
    "import pandas as pd\n",
    "import numpy as np\n",
    "import matplotlib.pyplot as plt\n",
    "import warnings\n",
    "warnings.simplefilter(action='ignore', category=FutureWarning)"
   ]
  },
  {
   "cell_type": "markdown",
   "metadata": {},
   "source": [
    "# Acessando os dados"
   ]
  },
  {
   "cell_type": "code",
   "execution_count": 3,
   "metadata": {},
   "outputs": [],
   "source": [
    "# Gastos por unidades da UFRN no ano de 2017\n",
    "gastos_ufrn_url = \"http://dados.ufrn.br/dataset/fb903241-9788-4d85-a9f6-bcf284bef71e/resource/f435bacb-819c-4699-af1c-2f0b13949d64/download/gastos-por-unidade.csv\""
   ]
  },
  {
   "cell_type": "markdown",
   "metadata": {},
   "source": [
    "# Extraindo os dados necessários"
   ]
  },
  {
   "cell_type": "code",
   "execution_count": 4,
   "metadata": {},
   "outputs": [],
   "source": [
    "#Lendo o dataset dos gastos das unidades em 2017\n",
    "gastos_ufrn = pd.read_csv(gastos_ufrn_url, sep=\";\")\n",
    "\n",
    "#Escolhendo as unidades a serem analizadas de acordo com os seus códigos\n",
    "\n",
    "#codigo IMD - 6069\n",
    "gastos_imd = gastos_ufrn[(gastos_ufrn.id_unidade == 6069)][[\"unidade\", \"valor\"]]\n",
    "gastos_imd.reset_index(drop=True,inplace=True)\n",
    "\n",
    "#codigo CSS - 441\n",
    "gastos_css = gastos_ufrn[(gastos_ufrn.id_unidade == 441)][[\"unidade\", \"valor\"]]\n",
    "gastos_css.reset_index(drop=True,inplace=True)\n",
    "\n",
    "#codigo CCHLA - 442\n",
    "gastos_cchla = gastos_ufrn[(gastos_ufrn.id_unidade == 442)][[\"unidade\", \"valor\"]]\n",
    "gastos_cchla.reset_index(drop=True,inplace=True) "
   ]
  },
  {
   "cell_type": "markdown",
   "metadata": {},
   "source": [
    "# Tratando os dados das unidades escolhidas\n",
    "- Embora o grupo tenha conhecimento da biblioteca \"locale\", não foi possível realizar as operações matemáticas pretendidas com seus métodos, recorrendo assim ao modo \"manual\".\n",
    "- Uma vez que as operações matemáticas estavam sendo feitas com variáveis do tipo float, foi preferível deixar os valores dos orçamentos puramente numérico, ficando assim sem a padronização monetária do real \"R$xxx.xxx,xx\" nas tabelas de tratamento de dados."
   ]
  },
  {
   "cell_type": "code",
   "execution_count": 5,
   "metadata": {
    "scrolled": true
   },
   "outputs": [
    {
     "data": {
      "text/html": [
       "<div>\n",
       "<style scoped>\n",
       "    .dataframe tbody tr th:only-of-type {\n",
       "        vertical-align: middle;\n",
       "    }\n",
       "\n",
       "    .dataframe tbody tr th {\n",
       "        vertical-align: top;\n",
       "    }\n",
       "\n",
       "    .dataframe thead th {\n",
       "        text-align: right;\n",
       "    }\n",
       "</style>\n",
       "<table border=\"1\" class=\"dataframe\">\n",
       "  <thead>\n",
       "    <tr style=\"text-align: right;\">\n",
       "      <th></th>\n",
       "      <th>Unidades</th>\n",
       "      <th>Orçamento Total</th>\n",
       "      <th>Orçamento por Departamento</th>\n",
       "    </tr>\n",
       "  </thead>\n",
       "  <tbody>\n",
       "    <tr>\n",
       "      <th>0</th>\n",
       "      <td>Instituto Metrópole Digital</td>\n",
       "      <td>R$ 49440366.7</td>\n",
       "      <td>R$ 49440366.7</td>\n",
       "    </tr>\n",
       "    <tr>\n",
       "      <th>1</th>\n",
       "      <td>Centro de Ciências da Saúde</td>\n",
       "      <td>R$ 118497955.32</td>\n",
       "      <td>R$ 6236734.490526316</td>\n",
       "    </tr>\n",
       "    <tr>\n",
       "      <th>2</th>\n",
       "      <td>Centro de Ciências Humanas, Letras e Artes</td>\n",
       "      <td>R$ 69630062.79</td>\n",
       "      <td>R$ 6330005.708181819</td>\n",
       "    </tr>\n",
       "  </tbody>\n",
       "</table>\n",
       "</div>"
      ],
      "text/plain": [
       "                                     Unidades  Orçamento Total  \\\n",
       "0                 Instituto Metrópole Digital    R$ 49440366.7   \n",
       "1                 Centro de Ciências da Saúde  R$ 118497955.32   \n",
       "2  Centro de Ciências Humanas, Letras e Artes   R$ 69630062.79   \n",
       "\n",
       "  Orçamento por Departamento  \n",
       "0              R$ 49440366.7  \n",
       "1       R$ 6236734.490526316  \n",
       "2       R$ 6330005.708181819  "
      ]
     },
     "execution_count": 5,
     "metadata": {},
     "output_type": "execute_result"
    }
   ],
   "source": [
    "#Somando os gastos totais das unidades para saber o seu orçamento em 2017\n",
    "\n",
    "orcamento_imd   = 0.0\n",
    "orcamento_css   = 0.0\n",
    "orcamento_cchla = 0.0\n",
    "money = \"R$ \"\n",
    "\n",
    "aux1 = gastos_imd.valor\n",
    "for i in aux1:\n",
    "    i = i.replace(money,\"\")\n",
    "    i = i.replace(\".\",\"\")\n",
    "    i = i.replace(\",\",\".\")\n",
    "    orcamento_imd += float(i)\n",
    "orcD_imd = orcamento_imd / 1.0   \n",
    "    \n",
    "aux2 = gastos_css.valor\n",
    "for i in aux2:\n",
    "    i = i.replace(money,\"\")\n",
    "    i = i.replace(\".\",\"\")\n",
    "    i = i.replace(\",\",\".\")\n",
    "    orcamento_css += float(i)\n",
    "orcD_css = orcamento_css / 19.0   \n",
    "\n",
    "aux3 = gastos_cchla.valor\n",
    "for i in aux3:\n",
    "    i = i.replace(money,\"\")\n",
    "    i = i.replace(\".\",\"\")\n",
    "    i = i.replace(\",\",\".\")\n",
    "    orcamento_cchla += float(i)\n",
    "orcD_cchla = orcamento_cchla / 11.0   \n",
    "    \n",
    "#Criando uma nova tabela com as unidades e seus respectivos orçamentos\n",
    "orcamento_ufrn = {\n",
    "    'Unidades': ['Instituto Metrópole Digital', 'Centro de Ciências da Saúde', 'Centro de Ciências Humanas, Letras e Artes'], \n",
    "    'Orçamento Total': [money + str(orcamento_imd), money + str(orcamento_css), money + str(orcamento_cchla)],\n",
    "    'Orçamento por Departamento': [money + str(orcD_imd), money + str(orcD_css), money + str(orcD_cchla)]\n",
    "}\n",
    "#Criando o dataframe de orçamentos\n",
    "df_orcamentos_ufrn = pd.DataFrame(orcamento_ufrn, columns=['Unidades','Orçamento Total','Orçamento por Departamento'])\n",
    "df_orcamentos_ufrn"
   ]
  },
  {
   "cell_type": "markdown",
   "metadata": {},
   "source": [
    "# Análise dos dados e Conclusão\n",
    "\n",
    "\n",
    "\n",
    "De acordo com o gráfico produzido, podemos fazer uma breve análise de dados e tirar algumas conclusões prévias. Se considerarmos que um dos centros na área de saúde recebe praticamente o dobro de um dos centros na área de humanas, podemos notar que o resultado dos orçamentos em 2017 por área é um pouco defasado. Quando pensamos no IMD (Instuto Metrópole Digital), que é uma unidade especializada, podemos achar que ele seria o equivalente a um centro acadêmico, mas quando fazemos uma análise mais profunda na estrutura da UFRN (Universidade Federal do Rio Grande do Norte), nota-se que dentro dos centros acadêmicos existem várias áreas de conhecimento específicas, enquanto o IMD só possui uma. \n",
    "\n",
    "Fazendo uma breve comparação, a unidade especializada do IMD tem apenas 1 departamento, enquanto o CSS (Centro de Ciências da Saúde) possui 19 departamentos e o CCHLA (Centro de Ciências Humanas, Letras e Artes) possui 11 departamentos. Podemos notar que, embora o orçamento dos centros acadêmicos sejam maiores, quando a verba é dividida entre os departamentos existentes, este valor fica bem abaixo do que é disponibilizado ao IMD como um todo. Sendo assim, conclui-se que o IMD tem um orçamento proporcional bem maior do que as outras Unidades da UFRN.\n",
    "\n",
    "\n"
   ]
  },
  {
   "cell_type": "code",
   "execution_count": null,
   "metadata": {},
   "outputs": [],
   "source": []
  }
 ],
 "metadata": {
  "kernelspec": {
   "display_name": "Python 3",
   "language": "python",
   "name": "python3"
  },
  "language_info": {
   "codemirror_mode": {
    "name": "ipython",
    "version": 3
   },
   "file_extension": ".py",
   "mimetype": "text/x-python",
   "name": "python",
   "nbconvert_exporter": "python",
   "pygments_lexer": "ipython3",
   "version": "3.6.4"
  }
 },
 "nbformat": 4,
 "nbformat_minor": 2
}
