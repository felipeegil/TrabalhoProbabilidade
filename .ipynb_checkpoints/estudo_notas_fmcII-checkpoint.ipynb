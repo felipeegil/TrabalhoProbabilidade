{
 "cells": [
  {
   "cell_type": "markdown",
   "metadata": {},
   "source": [
    "# Estudo das notas da disciplina Fundamentos Matemáticos da Computação II\n",
    "- O objetivo desse estudo é analisar as notas do componente curricular Fundamentos Matemáticos da Computação II, presente como disciplina obrigatória na grade de BTI, a partir de 2014, para analisar o alto índice de reprovações entre os discentes. "
   ]
  },
  {
   "cell_type": "markdown",
   "metadata": {},
   "source": [
    "# Bibliotecas\n",
    "- Pandas: Utilizado para ler, tratar e extrair informações presentes nos arquivos .csv contendo os dados disponíveis no portal.\n",
    "- Matplotlib: Utilizado para plot dos gráficos com as informações extraidas de cada dataset."
   ]
  },
  {
   "cell_type": "code",
   "execution_count": 3,
   "metadata": {},
   "outputs": [],
   "source": [
    "import pandas as pd\n",
    "import numpy as np\n",
    "import matplotlib.pyplot as plt"
   ]
  },
  {
   "cell_type": "markdown",
   "metadata": {},
   "source": [
    "# Acessando os dados"
   ]
  },
  {
   "cell_type": "code",
   "execution_count": 51,
   "metadata": {},
   "outputs": [],
   "source": [
    "# componentes curriculares presenciais\n",
    "disciplinas_url = 'http://bit.do/componentes_curriculares_ufrn'\n",
    "docentes_url = 'http://bit.do/docentes_ufrn_2018'\n",
    "docentes = pd.read_csv(docentes_url, sep=';')"
   ]
  },
  {
   "cell_type": "code",
   "execution_count": 38,
   "metadata": {},
   "outputs": [],
   "source": [
    "disciplinas = pd.read_csv(disciplinas_url, \n",
    "                          sep=';', \n",
    "                          usecols=[\"id_componente\",\"codigo\",\"nivel\",\"nome\",\"unidade_responsavel\"])\n",
    "\n",
    "# Limpando o dataframe disciplinas com linhas desnecessárias\n",
    "disciplinas.dropna(inplace=True)\n",
    "disciplinas = disciplinas[~disciplinas.id_componente.duplicated()]"
   ]
  },
  {
   "cell_type": "markdown",
   "metadata": {},
   "source": [
    "# Turmas e notas do semestre 2014.1"
   ]
  },
  {
   "cell_type": "code",
   "execution_count": 257,
   "metadata": {},
   "outputs": [],
   "source": [
    "turmas_url_2014_1 = 'http://bit.do/turmas_ufrn_2014_1'\n",
    "notas_url_2014_1 = 'http://bit.do/notas_ufrn_2014_1'"
   ]
  },
  {
   "cell_type": "code",
   "execution_count": 258,
   "metadata": {},
   "outputs": [],
   "source": [
    "# Turmas do semestre 2014.1\n",
    "turmas_2014_1 = pd.read_csv(turmas_url_2014_1, sep=';')\n",
    "# Matriculas em componentes em 2014.1\n",
    "notas_2014_1 = pd.read_csv(notas_url_2014_1, sep=';')"
   ]
  },
  {
   "cell_type": "code",
   "execution_count": 259,
   "metadata": {},
   "outputs": [],
   "source": [
    "# A coluna id_componente precisa ser a mesma em ambos os dataframes\n",
    "turmas_2014_1.rename(columns={'id_componente_curricular': 'id_componente'}, inplace=True)\n",
    "# id_componente em ambos os dataframes precisam ser do mesmo tipo\n",
    "turmas_2014_1.id_componente = turmas_2014_1.id_componente.astype(str)"
   ]
  },
  {
   "cell_type": "code",
   "execution_count": 260,
   "metadata": {},
   "outputs": [],
   "source": [
    "colunas = [\"id_turma\",\"id_docente_interno\",\"codigo\",\"nivel_ensino\",\"nome\",\"unidade_responsavel\",\n",
    "          \"situacao_turma\",\"capacidade_aluno\",\"descricao_horario\"]\n",
    "# merge os dois dataframes utilizando como base a coluna id_componenteb\n",
    "merge_turmas_disciplinas_2014_1 = pd.merge(turmas_2014_1, disciplinas, on='id_componente')[colunas]\n",
    "\n",
    "merge_turmas_disciplinas_2014_1.dropna(inplace=True)"
   ]
  },
  {
   "cell_type": "code",
   "execution_count": 261,
   "metadata": {},
   "outputs": [],
   "source": [
    "# filtrando as turmas com código IMD\n",
    "turmas_imd_2014_1 = merge_turmas_disciplinas_2014_1[merge_turmas_disciplinas_2014_1.codigo.str.contains(\"IMD\")]\n",
    "# utilizar apenas disciplinas com código \"CONSOLIDADA\"\n",
    "turmas_imd_2014_1 = turmas_imd_2014_1[turmas_imd_2014_1.situacao_turma == 'CONSOLIDADA']\n",
    "# Adaptar o nome da coluna id_docente_interno para id_servidor\n",
    "turmas_imd_2014_1.rename(columns={'id_docente_interno': 'id_servidor'}, inplace=True)\n",
    "turmas_imd_2014_1.capacidade_aluno = turmas_imd_2014_1.capacidade_aluno.astype(np.int64)\n",
    "# Adaptar os tipos de dados em turmas_imd para o merge com o dataframe docentes\n",
    "turmas_imd_2014_1.id_servidor = turmas_imd_2014_1.id_servidor.astype(np.int64)"
   ]
  },
  {
   "cell_type": "code",
   "execution_count": 264,
   "metadata": {},
   "outputs": [
    {
     "data": {
      "text/html": [
       "<div>\n",
       "<style scoped>\n",
       "    .dataframe tbody tr th:only-of-type {\n",
       "        vertical-align: middle;\n",
       "    }\n",
       "\n",
       "    .dataframe tbody tr th {\n",
       "        vertical-align: top;\n",
       "    }\n",
       "\n",
       "    .dataframe thead th {\n",
       "        text-align: right;\n",
       "    }\n",
       "</style>\n",
       "<table border=\"1\" class=\"dataframe\">\n",
       "  <thead>\n",
       "    <tr style=\"text-align: right;\">\n",
       "      <th></th>\n",
       "      <th>id_turma</th>\n",
       "      <th>id_servidor</th>\n",
       "      <th>codigo</th>\n",
       "      <th>nivel_ensino</th>\n",
       "      <th>nome</th>\n",
       "      <th>unidade_responsavel</th>\n",
       "      <th>situacao_turma</th>\n",
       "      <th>capacidade_aluno</th>\n",
       "      <th>descricao_horario</th>\n",
       "    </tr>\n",
       "  </thead>\n",
       "  <tbody>\n",
       "    <tr>\n",
       "      <th>1125</th>\n",
       "      <td>1217967</td>\n",
       "      <td>24798</td>\n",
       "      <td>IMD0038</td>\n",
       "      <td>GRADUAÇÃO</td>\n",
       "      <td>FUNDAMENTOS MATEMÁTICOS DA COMPUTAÇÃO II</td>\n",
       "      <td>INSTITUTO METROPOLE DIGITAL</td>\n",
       "      <td>CONSOLIDADA</td>\n",
       "      <td>60</td>\n",
       "      <td>246M56 (27/01/2014 - 14/06/2014)</td>\n",
       "    </tr>\n",
       "  </tbody>\n",
       "</table>\n",
       "</div>"
      ],
      "text/plain": [
       "      id_turma  id_servidor   codigo nivel_ensino  \\\n",
       "1125   1217967        24798  IMD0038    GRADUAÇÃO   \n",
       "\n",
       "                                          nome          unidade_responsavel  \\\n",
       "1125  FUNDAMENTOS MATEMÁTICOS DA COMPUTAÇÃO II  INSTITUTO METROPOLE DIGITAL   \n",
       "\n",
       "     situacao_turma  capacidade_aluno                 descricao_horario  \n",
       "1125    CONSOLIDADA                60  246M56 (27/01/2014 - 14/06/2014)  "
      ]
     },
     "execution_count": 264,
     "metadata": {},
     "output_type": "execute_result"
    }
   ],
   "source": [
    "turmas_imd_2014_1[turmas_imd_2014_1[\"nome\"] == 'FUNDAMENTOS MATEMÁTICOS DA COMPUTAÇÃO II']"
   ]
  },
  {
   "cell_type": "code",
   "execution_count": 266,
   "metadata": {},
   "outputs": [],
   "source": [
    "# merge os dataframes  turmas_imd e docentes utilizando como base a coluna id_servidor\n",
    "colunas = [\"id_turma\", \"codigo\", \"nivel_ensino\", \"nome_y\", \"codigo\", \"nivel_ensino\",\n",
    "          \"nome_x\",\"capacidade_aluno\", \"descricao_horario\"]\n",
    "turmas_imd_nomesprof_2014_1 = pd.merge(turmas_imd_2014_1, docentes, on='id_servidor')[colunas]"
   ]
  },
  {
   "cell_type": "code",
   "execution_count": 267,
   "metadata": {},
   "outputs": [],
   "source": [
    "# filtrar apenas as turmas do IMD\n",
    "notas_imd_2014_1 = notas_2014_1[notas_2014_1.id_turma.isin(turmas_imd_nomesprof_2014_1.id_turma)]\n",
    "# merge entre os dataframes notas_imd e turmas_imd_nomesprof utilizando como referencia id_turma\n",
    "notas_imd_merge_2014_1 = pd.merge(notas_imd_2014_1, turmas_imd_nomesprof_2014_1, on='id_turma')"
   ]
  },
  {
   "cell_type": "code",
   "execution_count": 268,
   "metadata": {},
   "outputs": [
    {
     "data": {
      "text/plain": [
       "REPROVADO                           17\n",
       "APROVADO                             6\n",
       "APROVADO POR NOTA                    4\n",
       "TRANCADO                             3\n",
       "REPROVADO POR MÉDIA E POR FALTAS     2\n",
       "CANCELADO                            1\n",
       "Name: descricao, dtype: int64"
      ]
     },
     "execution_count": 268,
     "metadata": {},
     "output_type": "execute_result"
    }
   ],
   "source": [
    "alunos_fmc_2014_1 = notas_imd_merge_2014_1[notas_imd_merge_2014_1.nome_x == 'FUNDAMENTOS MATEMÁTICOS DA COMPUTAÇÃO II']\n",
    "alunos_fmc_2014_1[~alunos_fmc_2014_1.discente.duplicated()].descricao.value_counts()"
   ]
  },
  {
   "cell_type": "markdown",
   "metadata": {},
   "source": [
    "# Turmas e notas do semestre 2014.2"
   ]
  },
  {
   "cell_type": "code",
   "execution_count": 276,
   "metadata": {},
   "outputs": [],
   "source": [
    "turmas_url_2014_2 = 'http://bit.do/turmas_ufrn_2014_2'\n",
    "notas_url_2014_2 = 'http://bit.do/notas_ufrn_2014_2'"
   ]
  },
  {
   "cell_type": "code",
   "execution_count": 277,
   "metadata": {},
   "outputs": [],
   "source": [
    "# Turmas do semestre 2014.1\n",
    "turmas_2014_2 = pd.read_csv(turmas_url_2014_2, sep=';')\n",
    "# Matriculas em componentes em 2014.1\n",
    "notas_2014_2 = pd.read_csv(notas_url_2014_2, sep=';')"
   ]
  },
  {
   "cell_type": "code",
   "execution_count": 278,
   "metadata": {},
   "outputs": [],
   "source": [
    "# A coluna id_componente precisa ser a mesma em ambos os dataframes\n",
    "turmas_2014_2.rename(columns={'id_componente_curricular': 'id_componente'}, inplace=True)\n",
    "# id_componente em ambos os dataframes precisam ser do mesmo tipo\n",
    "turmas_2014_2.id_componente = turmas_2014_2.id_componente.astype(str)"
   ]
  },
  {
   "cell_type": "code",
   "execution_count": 279,
   "metadata": {},
   "outputs": [],
   "source": [
    "colunas = [\"id_turma\",\"id_docente_interno\",\"codigo\",\"nivel_ensino\",\"nome\",\"unidade_responsavel\",\n",
    "          \"situacao_turma\",\"capacidade_aluno\",\"descricao_horario\"]\n",
    "merge_turmas_disciplinas_2014_2 = pd.merge(turmas_2014_2, disciplinas, on='id_componente')[colunas]\n",
    "merge_turmas_disciplinas_2014_2.dropna(inplace=True)"
   ]
  },
  {
   "cell_type": "code",
   "execution_count": 280,
   "metadata": {},
   "outputs": [],
   "source": [
    "turmas_imd_2014_2 = merge_turmas_disciplinas_2014_2[merge_turmas_disciplinas_2014_2.codigo.str.contains(\"IMD\")]\n",
    "turmas_imd_2014_2 = turmas_imd_2014_2[turmas_imd_2014_2.situacao_turma == 'CONSOLIDADA']\n",
    "turmas_imd_2014_2.rename(columns={'id_docente_interno': 'id_servidor'}, inplace=True)\n",
    "turmas_imd_2014_2.capacidade_aluno = turmas_imd_2014_2.capacidade_aluno.astype(np.int64)\n",
    "turmas_imd_2014_2.id_servidor = turmas_imd_2014_2.id_servidor.astype(np.int64)"
   ]
  },
  {
   "cell_type": "code",
   "execution_count": 281,
   "metadata": {},
   "outputs": [
    {
     "data": {
      "text/html": [
       "<div>\n",
       "<style scoped>\n",
       "    .dataframe tbody tr th:only-of-type {\n",
       "        vertical-align: middle;\n",
       "    }\n",
       "\n",
       "    .dataframe tbody tr th {\n",
       "        vertical-align: top;\n",
       "    }\n",
       "\n",
       "    .dataframe thead th {\n",
       "        text-align: right;\n",
       "    }\n",
       "</style>\n",
       "<table border=\"1\" class=\"dataframe\">\n",
       "  <thead>\n",
       "    <tr style=\"text-align: right;\">\n",
       "      <th></th>\n",
       "      <th>id_turma</th>\n",
       "      <th>id_servidor</th>\n",
       "      <th>codigo</th>\n",
       "      <th>nivel_ensino</th>\n",
       "      <th>nome</th>\n",
       "      <th>unidade_responsavel</th>\n",
       "      <th>situacao_turma</th>\n",
       "      <th>capacidade_aluno</th>\n",
       "      <th>descricao_horario</th>\n",
       "    </tr>\n",
       "  </thead>\n",
       "  <tbody>\n",
       "  </tbody>\n",
       "</table>\n",
       "</div>"
      ],
      "text/plain": [
       "Empty DataFrame\n",
       "Columns: [id_turma, id_servidor, codigo, nivel_ensino, nome, unidade_responsavel, situacao_turma, capacidade_aluno, descricao_horario]\n",
       "Index: []"
      ]
     },
     "execution_count": 281,
     "metadata": {},
     "output_type": "execute_result"
    }
   ],
   "source": [
    "turmas_imd_2014_2.head()"
   ]
  },
  {
   "cell_type": "markdown",
   "metadata": {},
   "source": [
    "# Turmas e notas do semestre 2015.1"
   ]
  },
  {
   "cell_type": "code",
   "execution_count": 137,
   "metadata": {},
   "outputs": [],
   "source": [
    "turmas_url_2015_1 = 'http://bit.do/turmas_ufrn_2015_1'\n",
    "notas_url_2015_1 = 'http://bit.do/notas_ufrn_2015_1'"
   ]
  },
  {
   "cell_type": "code",
   "execution_count": 140,
   "metadata": {},
   "outputs": [],
   "source": [
    "turmas_2015_1 = pd.read_csv(turmas_url_2015_1, sep=';')\n",
    "notas_2015_1 = pd.read_csv(notas_url_2015_1, sep=';')"
   ]
  },
  {
   "cell_type": "code",
   "execution_count": 141,
   "metadata": {},
   "outputs": [],
   "source": [
    "turmas_2015_1.rename(columns={'id_componente_curricular': 'id_componente'}, inplace=True)\n",
    "turmas_2015_1.id_componente = turmas_2015_1.id_componente.astype(str)"
   ]
  },
  {
   "cell_type": "code",
   "execution_count": 142,
   "metadata": {},
   "outputs": [],
   "source": [
    "colunas = [\"id_turma\",\"id_docente_interno\",\"codigo\",\"nivel_ensino\",\"nome\",\"unidade_responsavel\",\n",
    "          \"situacao_turma\",\"capacidade_aluno\",\"descricao_horario\"]\n",
    "merge_turmas_disciplinas_2015_1 = pd.merge(turmas_2015_1, disciplinas, on='id_componente')[colunas]\n",
    "merge_turmas_disciplinas_2015_1.dropna(inplace=True)"
   ]
  },
  {
   "cell_type": "code",
   "execution_count": 143,
   "metadata": {},
   "outputs": [],
   "source": [
    "turmas_imd_2015_1 = merge_turmas_disciplinas_2015_1[merge_turmas_disciplinas_2015_1.codigo.str.contains(\"IMD\")]\n",
    "turmas_imd_2015_1 = turmas_imd_2015_1[turmas_imd_2015_1.situacao_turma == 'CONSOLIDADA']\n",
    "turmas_imd_2015_1.rename(columns={'id_docente_interno': 'id_servidor'}, inplace=True)\n",
    "turmas_imd_2015_1.capacidade_aluno = turmas_imd_2015_1.capacidade_aluno.astype(np.int64)\n",
    "turmas_imd_2015_1.id_servidor = turmas_imd_2015_1.id_servidor.astype(np.int64)"
   ]
  },
  {
   "cell_type": "code",
   "execution_count": 144,
   "metadata": {},
   "outputs": [
    {
     "data": {
      "text/html": [
       "<div>\n",
       "<style scoped>\n",
       "    .dataframe tbody tr th:only-of-type {\n",
       "        vertical-align: middle;\n",
       "    }\n",
       "\n",
       "    .dataframe tbody tr th {\n",
       "        vertical-align: top;\n",
       "    }\n",
       "\n",
       "    .dataframe thead th {\n",
       "        text-align: right;\n",
       "    }\n",
       "</style>\n",
       "<table border=\"1\" class=\"dataframe\">\n",
       "  <thead>\n",
       "    <tr style=\"text-align: right;\">\n",
       "      <th></th>\n",
       "      <th>id_turma</th>\n",
       "      <th>id_servidor</th>\n",
       "      <th>codigo</th>\n",
       "      <th>nivel_ensino</th>\n",
       "      <th>nome</th>\n",
       "      <th>unidade_responsavel</th>\n",
       "      <th>situacao_turma</th>\n",
       "      <th>capacidade_aluno</th>\n",
       "      <th>descricao_horario</th>\n",
       "    </tr>\n",
       "  </thead>\n",
       "  <tbody>\n",
       "    <tr>\n",
       "      <th>823</th>\n",
       "      <td>1239537</td>\n",
       "      <td>25889</td>\n",
       "      <td>IMD0038</td>\n",
       "      <td>GRADUAÇÃO</td>\n",
       "      <td>FUNDAMENTOS MATEMÁTICOS DA COMPUTAÇÃO II</td>\n",
       "      <td>INSTITUTO METROPOLE DIGITAL</td>\n",
       "      <td>CONSOLIDADA</td>\n",
       "      <td>60</td>\n",
       "      <td>246N12 (02/02/2015 - 20/06/2015)</td>\n",
       "    </tr>\n",
       "    <tr>\n",
       "      <th>824</th>\n",
       "      <td>1239541</td>\n",
       "      <td>24798</td>\n",
       "      <td>IMD0038</td>\n",
       "      <td>GRADUAÇÃO</td>\n",
       "      <td>FUNDAMENTOS MATEMÁTICOS DA COMPUTAÇÃO II</td>\n",
       "      <td>INSTITUTO METROPOLE DIGITAL</td>\n",
       "      <td>CONSOLIDADA</td>\n",
       "      <td>60</td>\n",
       "      <td>246M34 (02/02/2015 - 20/06/2015)</td>\n",
       "    </tr>\n",
       "  </tbody>\n",
       "</table>\n",
       "</div>"
      ],
      "text/plain": [
       "     id_turma  id_servidor   codigo nivel_ensino  \\\n",
       "823   1239537        25889  IMD0038    GRADUAÇÃO   \n",
       "824   1239541        24798  IMD0038    GRADUAÇÃO   \n",
       "\n",
       "                                         nome          unidade_responsavel  \\\n",
       "823  FUNDAMENTOS MATEMÁTICOS DA COMPUTAÇÃO II  INSTITUTO METROPOLE DIGITAL   \n",
       "824  FUNDAMENTOS MATEMÁTICOS DA COMPUTAÇÃO II  INSTITUTO METROPOLE DIGITAL   \n",
       "\n",
       "    situacao_turma  capacidade_aluno                 descricao_horario  \n",
       "823    CONSOLIDADA                60  246N12 (02/02/2015 - 20/06/2015)  \n",
       "824    CONSOLIDADA                60  246M34 (02/02/2015 - 20/06/2015)  "
      ]
     },
     "execution_count": 144,
     "metadata": {},
     "output_type": "execute_result"
    }
   ],
   "source": [
    "turmas_imd_2015_1[turmas_imd_2015_1[\"nome\"] == 'FUNDAMENTOS MATEMÁTICOS DA COMPUTAÇÃO II']"
   ]
  },
  {
   "cell_type": "code",
   "execution_count": 145,
   "metadata": {},
   "outputs": [],
   "source": [
    "colunas = [\"id_turma\", \"codigo\", \"nivel_ensino\", \"nome_y\", \"codigo\", \"nivel_ensino\",\n",
    "          \"nome_x\",\"capacidade_aluno\", \"descricao_horario\"]\n",
    "turmas_imd_nomesprof_2015_1 = pd.merge(turmas_imd_2015_1, docentes, on='id_servidor')[colunas]"
   ]
  },
  {
   "cell_type": "code",
   "execution_count": 195,
   "metadata": {},
   "outputs": [],
   "source": [
    "notas_imd_2015_1 = notas_2015_1[notas_2015_1.id_turma.isin(turmas_imd_nomesprof_2015_1.id_turma)]\n",
    "notas_imd_merge_2015_1 = pd.merge(notas_imd_2015_1, turmas_imd_nomesprof_2015_1, on='id_turma')"
   ]
  },
  {
   "cell_type": "code",
   "execution_count": 198,
   "metadata": {
    "scrolled": true
   },
   "outputs": [
    {
     "data": {
      "text/plain": [
       "EXCLUIDA                            47\n",
       "APROVADO POR NOTA                   23\n",
       "REPROVADO POR MÉDIA E POR FALTAS     7\n",
       "REPROVADO                            7\n",
       "CANCELADO                            6\n",
       "APROVADO                             3\n",
       "DESISTENCIA                          1\n",
       "Name: descricao, dtype: int64"
      ]
     },
     "execution_count": 198,
     "metadata": {},
     "output_type": "execute_result"
    }
   ],
   "source": [
    "alunos_fmc_2015_1 = notas_imd_merge_2015_1[notas_imd_merge_2015_1.nome_x == 'FUNDAMENTOS MATEMÁTICOS DA COMPUTAÇÃO II']\n",
    "alunos_fmc_2015_1[~alunos_fmc_2015_1.discente.duplicated()].descricao.value_counts()"
   ]
  },
  {
   "cell_type": "markdown",
   "metadata": {},
   "source": [
    "# Turmas e notas do semestre 2015.2"
   ]
  },
  {
   "cell_type": "code",
   "execution_count": 150,
   "metadata": {},
   "outputs": [],
   "source": [
    "turmas_url_2015_2 = 'http://bit.do/turmas_ufrn_2015_2'\n",
    "notas_url_2015_2 = 'http://bit.do/notas_ufrn_2015_2'"
   ]
  },
  {
   "cell_type": "code",
   "execution_count": 151,
   "metadata": {},
   "outputs": [],
   "source": [
    "turmas_2015_2 = pd.read_csv(turmas_url_2015_2, sep=';')\n",
    "notas_2015_2 = pd.read_csv(notas_url_2015_2, sep=';')"
   ]
  },
  {
   "cell_type": "code",
   "execution_count": 152,
   "metadata": {},
   "outputs": [],
   "source": [
    "turmas_2015_2.rename(columns={'id_componente_curricular': 'id_componente'}, inplace=True)\n",
    "turmas_2015_2.id_componente = turmas_2015_2.id_componente.astype(str)"
   ]
  },
  {
   "cell_type": "code",
   "execution_count": 153,
   "metadata": {},
   "outputs": [],
   "source": [
    "colunas = [\"id_turma\",\"id_docente_interno\",\"codigo\",\"nivel_ensino\",\"nome\",\"unidade_responsavel\",\n",
    "          \"situacao_turma\",\"capacidade_aluno\",\"descricao_horario\"]\n",
    "merge_turmas_disciplinas_2015_2 = pd.merge(turmas_2015_2, disciplinas, on='id_componente')[colunas]\n",
    "merge_turmas_disciplinas_2015_2.dropna(inplace=True)"
   ]
  },
  {
   "cell_type": "code",
   "execution_count": 154,
   "metadata": {},
   "outputs": [],
   "source": [
    "turmas_imd_2015_2 = merge_turmas_disciplinas_2015_2[merge_turmas_disciplinas_2015_2.codigo.str.contains(\"IMD\")]\n",
    "turmas_imd_2015_2 = turmas_imd_2015_2[turmas_imd_2015_2.situacao_turma == 'CONSOLIDADA']\n",
    "turmas_imd_2015_2.rename(columns={'id_docente_interno': 'id_servidor'}, inplace=True)\n",
    "turmas_imd_2015_2.capacidade_aluno = turmas_imd_2015_2.capacidade_aluno.astype(np.int64)\n",
    "turmas_imd_2015_2.id_servidor = turmas_imd_2015_2.id_servidor.astype(np.int64)"
   ]
  },
  {
   "cell_type": "code",
   "execution_count": 155,
   "metadata": {},
   "outputs": [
    {
     "data": {
      "text/html": [
       "<div>\n",
       "<style scoped>\n",
       "    .dataframe tbody tr th:only-of-type {\n",
       "        vertical-align: middle;\n",
       "    }\n",
       "\n",
       "    .dataframe tbody tr th {\n",
       "        vertical-align: top;\n",
       "    }\n",
       "\n",
       "    .dataframe thead th {\n",
       "        text-align: right;\n",
       "    }\n",
       "</style>\n",
       "<table border=\"1\" class=\"dataframe\">\n",
       "  <thead>\n",
       "    <tr style=\"text-align: right;\">\n",
       "      <th></th>\n",
       "      <th>id_turma</th>\n",
       "      <th>id_servidor</th>\n",
       "      <th>codigo</th>\n",
       "      <th>nivel_ensino</th>\n",
       "      <th>nome</th>\n",
       "      <th>unidade_responsavel</th>\n",
       "      <th>situacao_turma</th>\n",
       "      <th>capacidade_aluno</th>\n",
       "      <th>descricao_horario</th>\n",
       "    </tr>\n",
       "  </thead>\n",
       "  <tbody>\n",
       "    <tr>\n",
       "      <th>3259</th>\n",
       "      <td>57564855</td>\n",
       "      <td>24798</td>\n",
       "      <td>IMD0038</td>\n",
       "      <td>GRADUAÇÃO</td>\n",
       "      <td>FUNDAMENTOS MATEMÁTICOS DA COMPUTAÇÃO II</td>\n",
       "      <td>INSTITUTO METROPOLE DIGITAL</td>\n",
       "      <td>CONSOLIDADA</td>\n",
       "      <td>65</td>\n",
       "      <td>246M34 (27/07/2015 - 19/12/2015)</td>\n",
       "    </tr>\n",
       "    <tr>\n",
       "      <th>3260</th>\n",
       "      <td>57564858</td>\n",
       "      <td>25889</td>\n",
       "      <td>IMD0038</td>\n",
       "      <td>GRADUAÇÃO</td>\n",
       "      <td>FUNDAMENTOS MATEMÁTICOS DA COMPUTAÇÃO II</td>\n",
       "      <td>INSTITUTO METROPOLE DIGITAL</td>\n",
       "      <td>CONSOLIDADA</td>\n",
       "      <td>60</td>\n",
       "      <td>246N12 (27/07/2015 - 19/12/2015)</td>\n",
       "    </tr>\n",
       "  </tbody>\n",
       "</table>\n",
       "</div>"
      ],
      "text/plain": [
       "      id_turma  id_servidor   codigo nivel_ensino  \\\n",
       "3259  57564855        24798  IMD0038    GRADUAÇÃO   \n",
       "3260  57564858        25889  IMD0038    GRADUAÇÃO   \n",
       "\n",
       "                                          nome          unidade_responsavel  \\\n",
       "3259  FUNDAMENTOS MATEMÁTICOS DA COMPUTAÇÃO II  INSTITUTO METROPOLE DIGITAL   \n",
       "3260  FUNDAMENTOS MATEMÁTICOS DA COMPUTAÇÃO II  INSTITUTO METROPOLE DIGITAL   \n",
       "\n",
       "     situacao_turma  capacidade_aluno                 descricao_horario  \n",
       "3259    CONSOLIDADA                65  246M34 (27/07/2015 - 19/12/2015)  \n",
       "3260    CONSOLIDADA                60  246N12 (27/07/2015 - 19/12/2015)  "
      ]
     },
     "execution_count": 155,
     "metadata": {},
     "output_type": "execute_result"
    }
   ],
   "source": [
    "turmas_imd_2015_2[turmas_imd_2015_2.nome == 'FUNDAMENTOS MATEMÁTICOS DA COMPUTAÇÃO II']"
   ]
  },
  {
   "cell_type": "code",
   "execution_count": 184,
   "metadata": {},
   "outputs": [],
   "source": [
    "colunas = [\"id_turma\", \"codigo\", \"nivel_ensino\", \"nome_y\", \"codigo\", \"nivel_ensino\",\n",
    "          \"nome_x\",\"capacidade_aluno\", \"descricao_horario\"]\n",
    "turmas_imd_nomesprof_2015_2 = pd.merge(turmas_imd_2015_2, docentes, on='id_servidor')[colunas]"
   ]
  },
  {
   "cell_type": "code",
   "execution_count": 199,
   "metadata": {},
   "outputs": [],
   "source": [
    "notas_imd_2015_2 = notas_2015_2[notas_2015_2.id_turma.isin(turmas_imd_nomesprof_2015_2.id_turma)]\n",
    "notas_imd_merge_2015_2 = pd.merge(notas_imd_2015_2, turmas_imd_nomesprof_2015_2, on='id_turma')"
   ]
  },
  {
   "cell_type": "code",
   "execution_count": 201,
   "metadata": {},
   "outputs": [
    {
     "data": {
      "text/plain": [
       "REPROVADO POR MÉDIA E POR FALTAS    27\n",
       "REPROVADO                           19\n",
       "APROVADO POR NOTA                   19\n",
       "CANCELADO                           15\n",
       "APROVADO                             5\n",
       "TRANCADO                             3\n",
       "DESISTENCIA                          2\n",
       "Name: descricao, dtype: int64"
      ]
     },
     "execution_count": 201,
     "metadata": {},
     "output_type": "execute_result"
    }
   ],
   "source": [
    "alunos_fmc_2015_2 = notas_imd_merge_2015_2[notas_imd_merge_2015_2.nome_x == 'FUNDAMENTOS MATEMÁTICOS DA COMPUTAÇÃO II']\n",
    "alunos_fmc_2015_2[~alunos_fmc_2015_2.discente.duplicated()].descricao.value_counts()"
   ]
  },
  {
   "cell_type": "markdown",
   "metadata": {},
   "source": [
    "# Turmas e notas no semestre 2016.1"
   ]
  },
  {
   "cell_type": "code",
   "execution_count": 161,
   "metadata": {},
   "outputs": [],
   "source": [
    "turmas_url_2016_1 = 'http://bit.do/turmas_ufrn_2016_1'\n",
    "notas_url_2016_1 = 'http://bit.do/notas_ufrn_2016_1'"
   ]
  },
  {
   "cell_type": "code",
   "execution_count": 162,
   "metadata": {},
   "outputs": [],
   "source": [
    "turmas_2016_1 = pd.read_csv(turmas_url_2016_1, sep=';')\n",
    "notas_2016_1 = pd.read_csv(notas_url_2016_1, sep=';')"
   ]
  },
  {
   "cell_type": "code",
   "execution_count": 163,
   "metadata": {},
   "outputs": [],
   "source": [
    "turmas_2016_1.rename(columns={'id_componente_curricular': 'id_componente'}, inplace=True)\n",
    "turmas_2016_1.id_componente = turmas_2016_1.id_componente.astype(str)"
   ]
  },
  {
   "cell_type": "code",
   "execution_count": 164,
   "metadata": {},
   "outputs": [],
   "source": [
    "colunas = [\"id_turma\",\"id_docente_interno\",\"codigo\",\"nivel_ensino\",\"nome\",\"unidade_responsavel\",\n",
    "          \"situacao_turma\",\"capacidade_aluno\",\"descricao_horario\"]\n",
    "merge_turmas_disciplinas_2016_1 = pd.merge(turmas_2016_1, disciplinas, on='id_componente')[colunas]\n",
    "merge_turmas_disciplinas_2016_1.dropna(inplace=True)"
   ]
  },
  {
   "cell_type": "code",
   "execution_count": 165,
   "metadata": {},
   "outputs": [],
   "source": [
    "turmas_imd_2016_1 = merge_turmas_disciplinas_2016_1[merge_turmas_disciplinas_2016_1.codigo.str.contains(\"IMD\")]\n",
    "turmas_imd_2016_1 = turmas_imd_2016_1[turmas_imd_2016_1.situacao_turma == 'CONSOLIDADA']\n",
    "turmas_imd_2016_1.rename(columns={'id_docente_interno': 'id_servidor'}, inplace=True)\n",
    "turmas_imd_2016_1.capacidade_aluno = turmas_imd_2016_1.capacidade_aluno.astype(np.int64)\n",
    "turmas_imd_2016_1.id_servidor = turmas_imd_2016_1.id_servidor.astype(np.int64)"
   ]
  },
  {
   "cell_type": "code",
   "execution_count": 166,
   "metadata": {},
   "outputs": [
    {
     "data": {
      "text/html": [
       "<div>\n",
       "<style scoped>\n",
       "    .dataframe tbody tr th:only-of-type {\n",
       "        vertical-align: middle;\n",
       "    }\n",
       "\n",
       "    .dataframe tbody tr th {\n",
       "        vertical-align: top;\n",
       "    }\n",
       "\n",
       "    .dataframe thead th {\n",
       "        text-align: right;\n",
       "    }\n",
       "</style>\n",
       "<table border=\"1\" class=\"dataframe\">\n",
       "  <thead>\n",
       "    <tr style=\"text-align: right;\">\n",
       "      <th></th>\n",
       "      <th>id_turma</th>\n",
       "      <th>id_servidor</th>\n",
       "      <th>codigo</th>\n",
       "      <th>nivel_ensino</th>\n",
       "      <th>nome</th>\n",
       "      <th>unidade_responsavel</th>\n",
       "      <th>situacao_turma</th>\n",
       "      <th>capacidade_aluno</th>\n",
       "      <th>descricao_horario</th>\n",
       "    </tr>\n",
       "  </thead>\n",
       "  <tbody>\n",
       "    <tr>\n",
       "      <th>5709</th>\n",
       "      <td>57576738</td>\n",
       "      <td>5757768</td>\n",
       "      <td>IMD0038</td>\n",
       "      <td>GRADUAÇÃO</td>\n",
       "      <td>FUNDAMENTOS MATEMÁTICOS DA COMPUTAÇÃO II</td>\n",
       "      <td>INSTITUTO METROPOLE DIGITAL</td>\n",
       "      <td>CONSOLIDADA</td>\n",
       "      <td>60</td>\n",
       "      <td>246N34 (01/02/2016 - 18/06/2016)</td>\n",
       "    </tr>\n",
       "    <tr>\n",
       "      <th>5710</th>\n",
       "      <td>57579587</td>\n",
       "      <td>24798</td>\n",
       "      <td>IMD0038</td>\n",
       "      <td>GRADUAÇÃO</td>\n",
       "      <td>FUNDAMENTOS MATEMÁTICOS DA COMPUTAÇÃO II</td>\n",
       "      <td>INSTITUTO METROPOLE DIGITAL</td>\n",
       "      <td>CONSOLIDADA</td>\n",
       "      <td>32</td>\n",
       "      <td>246M34 (01/02/2016 - 18/06/2016)</td>\n",
       "    </tr>\n",
       "    <tr>\n",
       "      <th>5711</th>\n",
       "      <td>57579588</td>\n",
       "      <td>5757958</td>\n",
       "      <td>IMD0038</td>\n",
       "      <td>GRADUAÇÃO</td>\n",
       "      <td>FUNDAMENTOS MATEMÁTICOS DA COMPUTAÇÃO II</td>\n",
       "      <td>INSTITUTO METROPOLE DIGITAL</td>\n",
       "      <td>CONSOLIDADA</td>\n",
       "      <td>35</td>\n",
       "      <td>246M34 (01/02/2016 - 18/06/2016)</td>\n",
       "    </tr>\n",
       "  </tbody>\n",
       "</table>\n",
       "</div>"
      ],
      "text/plain": [
       "      id_turma  id_servidor   codigo nivel_ensino  \\\n",
       "5709  57576738      5757768  IMD0038    GRADUAÇÃO   \n",
       "5710  57579587        24798  IMD0038    GRADUAÇÃO   \n",
       "5711  57579588      5757958  IMD0038    GRADUAÇÃO   \n",
       "\n",
       "                                          nome          unidade_responsavel  \\\n",
       "5709  FUNDAMENTOS MATEMÁTICOS DA COMPUTAÇÃO II  INSTITUTO METROPOLE DIGITAL   \n",
       "5710  FUNDAMENTOS MATEMÁTICOS DA COMPUTAÇÃO II  INSTITUTO METROPOLE DIGITAL   \n",
       "5711  FUNDAMENTOS MATEMÁTICOS DA COMPUTAÇÃO II  INSTITUTO METROPOLE DIGITAL   \n",
       "\n",
       "     situacao_turma  capacidade_aluno                 descricao_horario  \n",
       "5709    CONSOLIDADA                60  246N34 (01/02/2016 - 18/06/2016)  \n",
       "5710    CONSOLIDADA                32  246M34 (01/02/2016 - 18/06/2016)  \n",
       "5711    CONSOLIDADA                35  246M34 (01/02/2016 - 18/06/2016)  "
      ]
     },
     "execution_count": 166,
     "metadata": {},
     "output_type": "execute_result"
    }
   ],
   "source": [
    "turmas_imd_2016_1[turmas_imd_2016_1.nome == 'FUNDAMENTOS MATEMÁTICOS DA COMPUTAÇÃO II']"
   ]
  },
  {
   "cell_type": "code",
   "execution_count": 222,
   "metadata": {},
   "outputs": [],
   "source": [
    "colunas = [\"id_turma\", \"codigo\", \"nivel_ensino\", \"nome_y\", \"codigo\", \"nivel_ensino\",\n",
    "          \"nome_x\",\"capacidade_aluno\", \"descricao_horario\"]\n",
    "turmas_imd_nomesprof_2016_1 = pd.merge(turmas_imd_2016_1, docentes, on='id_servidor')[colunas]"
   ]
  },
  {
   "cell_type": "code",
   "execution_count": 223,
   "metadata": {},
   "outputs": [],
   "source": [
    "notas_imd_2016_1 = notas_2016_1[notas_2016_1.id_turma.isin(turmas_imd_nomesprof_2016_1.id_turma)]\n",
    "notas_imd_merge_2016_1 = pd.merge(notas_imd_2016_1, turmas_imd_nomesprof_2016_1, on='id_turma')"
   ]
  },
  {
   "cell_type": "code",
   "execution_count": 224,
   "metadata": {},
   "outputs": [
    {
     "data": {
      "text/plain": [
       "REPROVADO                           33\n",
       "REPROVADO POR MÉDIA E POR FALTAS    24\n",
       "APROVADO POR NOTA                   17\n",
       "APROVADO                            11\n",
       "INDEFERIDO                          11\n",
       "CANCELADO                           10\n",
       "TRANCADO                             9\n",
       "DESISTENCIA                          5\n",
       "EXCLUIDA                             1\n",
       "Name: descricao, dtype: int64"
      ]
     },
     "execution_count": 224,
     "metadata": {},
     "output_type": "execute_result"
    }
   ],
   "source": [
    "alunos_fmc_2016_1 = notas_imd_merge_2016_1[notas_imd_merge_2016_1.nome_x == 'FUNDAMENTOS MATEMÁTICOS DA COMPUTAÇÃO II']\n",
    "alunos_fmc_2016_1[~alunos_fmc_2016_1.discente.duplicated()].descricao.value_counts()"
   ]
  },
  {
   "cell_type": "markdown",
   "metadata": {},
   "source": [
    "# Turmas e notas no semestre 2016.2"
   ]
  },
  {
   "cell_type": "code",
   "execution_count": 170,
   "metadata": {},
   "outputs": [],
   "source": [
    "turmas_url_2016_2 = 'http://bit.do/turmas_ufrn_2016_2'\n",
    "notas_url_2016_2 = 'http://bit.do/notas_ufrn_2016_2'"
   ]
  },
  {
   "cell_type": "code",
   "execution_count": 171,
   "metadata": {},
   "outputs": [],
   "source": [
    "turmas_2016_2 = pd.read_csv(turmas_url_2016_2, sep=';')\n",
    "notas_2016_2 = pd.read_csv(notas_url_2016_2, sep=';')"
   ]
  },
  {
   "cell_type": "code",
   "execution_count": 172,
   "metadata": {},
   "outputs": [],
   "source": [
    "turmas_2016_2.rename(columns={'id_componente_curricular': 'id_componente'}, inplace=True)\n",
    "turmas_2016_2.id_componente = turmas_2016_2.id_componente.astype(str)"
   ]
  },
  {
   "cell_type": "code",
   "execution_count": 173,
   "metadata": {},
   "outputs": [],
   "source": [
    "colunas = [\"id_turma\",\"id_docente_interno\",\"codigo\",\"nivel_ensino\",\"nome\",\"unidade_responsavel\",\n",
    "          \"situacao_turma\",\"capacidade_aluno\",\"descricao_horario\"]\n",
    "merge_turmas_disciplinas_2016_2 = pd.merge(turmas_2016_2, disciplinas, on='id_componente')[colunas]\n",
    "merge_turmas_disciplinas_2016_2.dropna(inplace=True)"
   ]
  },
  {
   "cell_type": "code",
   "execution_count": 174,
   "metadata": {},
   "outputs": [],
   "source": [
    "turmas_imd_2016_2 = merge_turmas_disciplinas_2016_2[merge_turmas_disciplinas_2016_2.codigo.str.contains(\"IMD\")]\n",
    "turmas_imd_2016_2 = turmas_imd_2016_2[turmas_imd_2016_2.situacao_turma == 'CONSOLIDADA']\n",
    "turmas_imd_2016_2.rename(columns={'id_docente_interno': 'id_servidor'}, inplace=True)\n",
    "turmas_imd_2016_2.capacidade_aluno = turmas_imd_2016_2.capacidade_aluno.astype(np.int64)\n",
    "turmas_imd_2016_2.id_servidor = turmas_imd_2016_2.id_servidor.astype(np.int64)"
   ]
  },
  {
   "cell_type": "code",
   "execution_count": 177,
   "metadata": {},
   "outputs": [
    {
     "data": {
      "text/html": [
       "<div>\n",
       "<style scoped>\n",
       "    .dataframe tbody tr th:only-of-type {\n",
       "        vertical-align: middle;\n",
       "    }\n",
       "\n",
       "    .dataframe tbody tr th {\n",
       "        vertical-align: top;\n",
       "    }\n",
       "\n",
       "    .dataframe thead th {\n",
       "        text-align: right;\n",
       "    }\n",
       "</style>\n",
       "<table border=\"1\" class=\"dataframe\">\n",
       "  <thead>\n",
       "    <tr style=\"text-align: right;\">\n",
       "      <th></th>\n",
       "      <th>id_turma</th>\n",
       "      <th>id_servidor</th>\n",
       "      <th>codigo</th>\n",
       "      <th>nivel_ensino</th>\n",
       "      <th>nome</th>\n",
       "      <th>unidade_responsavel</th>\n",
       "      <th>situacao_turma</th>\n",
       "      <th>capacidade_aluno</th>\n",
       "      <th>descricao_horario</th>\n",
       "    </tr>\n",
       "  </thead>\n",
       "  <tbody>\n",
       "    <tr>\n",
       "      <th>3873</th>\n",
       "      <td>57586396</td>\n",
       "      <td>5757768</td>\n",
       "      <td>IMD0038</td>\n",
       "      <td>GRADUAÇÃO</td>\n",
       "      <td>FUNDAMENTOS MATEMÁTICOS DA COMPUTAÇÃO II</td>\n",
       "      <td>INSTITUTO METROPOLE DIGITAL</td>\n",
       "      <td>CONSOLIDADA</td>\n",
       "      <td>60</td>\n",
       "      <td>246M34 (25/07/2016 - 17/12/2016)</td>\n",
       "    </tr>\n",
       "    <tr>\n",
       "      <th>3874</th>\n",
       "      <td>57586396</td>\n",
       "      <td>64472</td>\n",
       "      <td>IMD0038</td>\n",
       "      <td>GRADUAÇÃO</td>\n",
       "      <td>FUNDAMENTOS MATEMÁTICOS DA COMPUTAÇÃO II</td>\n",
       "      <td>INSTITUTO METROPOLE DIGITAL</td>\n",
       "      <td>CONSOLIDADA</td>\n",
       "      <td>60</td>\n",
       "      <td>246M34 (25/07/2016 - 17/12/2016)</td>\n",
       "    </tr>\n",
       "    <tr>\n",
       "      <th>3875</th>\n",
       "      <td>57586397</td>\n",
       "      <td>25889</td>\n",
       "      <td>IMD0038</td>\n",
       "      <td>GRADUAÇÃO</td>\n",
       "      <td>FUNDAMENTOS MATEMÁTICOS DA COMPUTAÇÃO II</td>\n",
       "      <td>INSTITUTO METROPOLE DIGITAL</td>\n",
       "      <td>CONSOLIDADA</td>\n",
       "      <td>63</td>\n",
       "      <td>246N12 (25/07/2016 - 17/12/2016)</td>\n",
       "    </tr>\n",
       "  </tbody>\n",
       "</table>\n",
       "</div>"
      ],
      "text/plain": [
       "      id_turma  id_servidor   codigo nivel_ensino  \\\n",
       "3873  57586396      5757768  IMD0038    GRADUAÇÃO   \n",
       "3874  57586396        64472  IMD0038    GRADUAÇÃO   \n",
       "3875  57586397        25889  IMD0038    GRADUAÇÃO   \n",
       "\n",
       "                                          nome          unidade_responsavel  \\\n",
       "3873  FUNDAMENTOS MATEMÁTICOS DA COMPUTAÇÃO II  INSTITUTO METROPOLE DIGITAL   \n",
       "3874  FUNDAMENTOS MATEMÁTICOS DA COMPUTAÇÃO II  INSTITUTO METROPOLE DIGITAL   \n",
       "3875  FUNDAMENTOS MATEMÁTICOS DA COMPUTAÇÃO II  INSTITUTO METROPOLE DIGITAL   \n",
       "\n",
       "     situacao_turma  capacidade_aluno                 descricao_horario  \n",
       "3873    CONSOLIDADA                60  246M34 (25/07/2016 - 17/12/2016)  \n",
       "3874    CONSOLIDADA                60  246M34 (25/07/2016 - 17/12/2016)  \n",
       "3875    CONSOLIDADA                63  246N12 (25/07/2016 - 17/12/2016)  "
      ]
     },
     "execution_count": 177,
     "metadata": {},
     "output_type": "execute_result"
    }
   ],
   "source": [
    "turmas_imd_2016_2[turmas_imd_2016_2[\"nome\"] == 'FUNDAMENTOS MATEMÁTICOS DA COMPUTAÇÃO II']"
   ]
  },
  {
   "cell_type": "code",
   "execution_count": 225,
   "metadata": {},
   "outputs": [],
   "source": [
    "colunas = [\"id_turma\", \"codigo\", \"nivel_ensino\", \"nome_y\", \"codigo\", \"nivel_ensino\",\n",
    "          \"nome_x\",\"capacidade_aluno\", \"descricao_horario\"]\n",
    "turmas_imd_nomesprof_2016_2 = pd.merge(turmas_imd_2016_2, docentes, on='id_servidor')[colunas]"
   ]
  },
  {
   "cell_type": "code",
   "execution_count": 226,
   "metadata": {},
   "outputs": [],
   "source": [
    "notas_imd_2016_2 = notas_2016_2[notas_2016_2.id_turma.isin(turmas_imd_nomesprof_2016_2.id_turma)]\n",
    "notas_imd_merge_2016_2 = pd.merge(notas_imd_2016_2, turmas_imd_nomesprof_2016_2, on='id_turma')"
   ]
  },
  {
   "cell_type": "code",
   "execution_count": 227,
   "metadata": {},
   "outputs": [
    {
     "data": {
      "text/plain": [
       "REPROVADO POR MÉDIA E POR FALTAS    32\n",
       "REPROVADO                           19\n",
       "CANCELADO                           19\n",
       "APROVADO POR NOTA                   15\n",
       "INDEFERIDO                          11\n",
       "APROVADO                             7\n",
       "TRANCADO                             5\n",
       "Name: descricao, dtype: int64"
      ]
     },
     "execution_count": 227,
     "metadata": {},
     "output_type": "execute_result"
    }
   ],
   "source": [
    "alunos_fmc_2016_2 = notas_imd_merge_2016_2[notas_imd_merge_2016_2.nome_x == 'FUNDAMENTOS MATEMÁTICOS DA COMPUTAÇÃO II']\n",
    "alunos_fmc_2016_2[~alunos_fmc_2016_2.discente.duplicated()].descricao.value_counts()"
   ]
  },
  {
   "cell_type": "markdown",
   "metadata": {},
   "source": [
    "# Turmas e notas no semestre 2017.1"
   ]
  },
  {
   "cell_type": "code",
   "execution_count": 213,
   "metadata": {},
   "outputs": [],
   "source": [
    "turmas_url_2017_1 = 'http://bit.do/turmas_ufrn_2017_1'\n",
    "notas_url_2017_1 = 'http://bit.do/notas_ufrn_2017_1'"
   ]
  },
  {
   "cell_type": "code",
   "execution_count": 214,
   "metadata": {},
   "outputs": [],
   "source": [
    "turmas_2017_1 = pd.read_csv(turmas_url_2017_1, sep=';')\n",
    "notas_2017_1 = pd.read_csv(notas_url_2017_1, sep=';')"
   ]
  },
  {
   "cell_type": "code",
   "execution_count": 215,
   "metadata": {},
   "outputs": [],
   "source": [
    "turmas_2017_1.rename(columns={'id_componente_curricular': 'id_componente'}, inplace=True)\n",
    "turmas_2017_1.id_componente = turmas_2017_1.id_componente.astype(str)"
   ]
  },
  {
   "cell_type": "code",
   "execution_count": 216,
   "metadata": {},
   "outputs": [],
   "source": [
    "colunas = [\"id_turma\",\"id_docente_interno\",\"codigo\",\"nivel_ensino\",\"nome\",\"unidade_responsavel\",\n",
    "          \"situacao_turma\",\"capacidade_aluno\",\"descricao_horario\"]\n",
    "merge_turmas_disciplinas_2017_1 = pd.merge(turmas_2017_1, disciplinas, on='id_componente')[colunas]\n",
    "merge_turmas_disciplinas_2017_1.dropna(inplace=True)"
   ]
  },
  {
   "cell_type": "code",
   "execution_count": 217,
   "metadata": {},
   "outputs": [],
   "source": [
    "turmas_imd_2017_1 = merge_turmas_disciplinas_2017_1[merge_turmas_disciplinas_2017_1.codigo.str.contains(\"IMD\")]\n",
    "turmas_imd_2017_1 = turmas_imd_2017_1[turmas_imd_2017_1.situacao_turma == 'CONSOLIDADA']\n",
    "turmas_imd_2017_1.rename(columns={'id_docente_interno': 'id_servidor'}, inplace=True)\n",
    "turmas_imd_2017_1.capacidade_aluno = turmas_imd_2017_1.capacidade_aluno.astype(np.int64)\n",
    "turmas_imd_2017_1.id_servidor = turmas_imd_2017_1.id_servidor.astype(np.int64)"
   ]
  },
  {
   "cell_type": "code",
   "execution_count": 256,
   "metadata": {},
   "outputs": [
    {
     "data": {
      "text/html": [
       "<div>\n",
       "<style scoped>\n",
       "    .dataframe tbody tr th:only-of-type {\n",
       "        vertical-align: middle;\n",
       "    }\n",
       "\n",
       "    .dataframe tbody tr th {\n",
       "        vertical-align: top;\n",
       "    }\n",
       "\n",
       "    .dataframe thead th {\n",
       "        text-align: right;\n",
       "    }\n",
       "</style>\n",
       "<table border=\"1\" class=\"dataframe\">\n",
       "  <thead>\n",
       "    <tr style=\"text-align: right;\">\n",
       "      <th></th>\n",
       "      <th>id_turma</th>\n",
       "      <th>id_servidor</th>\n",
       "      <th>codigo</th>\n",
       "      <th>nivel_ensino</th>\n",
       "      <th>nome</th>\n",
       "      <th>unidade_responsavel</th>\n",
       "      <th>situacao_turma</th>\n",
       "      <th>capacidade_aluno</th>\n",
       "      <th>descricao_horario</th>\n",
       "    </tr>\n",
       "  </thead>\n",
       "  <tbody>\n",
       "    <tr>\n",
       "      <th>6365</th>\n",
       "      <td>57597922</td>\n",
       "      <td>5757958</td>\n",
       "      <td>IMD0038</td>\n",
       "      <td>GRADUAÇÃO</td>\n",
       "      <td>FUNDAMENTOS MATEMÁTICOS DA COMPUTAÇÃO II</td>\n",
       "      <td>INSTITUTO METROPOLE DIGITAL</td>\n",
       "      <td>CONSOLIDADA</td>\n",
       "      <td>60</td>\n",
       "      <td>246T56 (13/02/2017 - 01/07/2017)</td>\n",
       "    </tr>\n",
       "    <tr>\n",
       "      <th>6366</th>\n",
       "      <td>57597928</td>\n",
       "      <td>5757958</td>\n",
       "      <td>IMD0038</td>\n",
       "      <td>GRADUAÇÃO</td>\n",
       "      <td>FUNDAMENTOS MATEMÁTICOS DA COMPUTAÇÃO II</td>\n",
       "      <td>INSTITUTO METROPOLE DIGITAL</td>\n",
       "      <td>CONSOLIDADA</td>\n",
       "      <td>60</td>\n",
       "      <td>246N12 (13/02/2017 - 01/07/2017)</td>\n",
       "    </tr>\n",
       "  </tbody>\n",
       "</table>\n",
       "</div>"
      ],
      "text/plain": [
       "      id_turma  id_servidor   codigo nivel_ensino  \\\n",
       "6365  57597922      5757958  IMD0038    GRADUAÇÃO   \n",
       "6366  57597928      5757958  IMD0038    GRADUAÇÃO   \n",
       "\n",
       "                                          nome          unidade_responsavel  \\\n",
       "6365  FUNDAMENTOS MATEMÁTICOS DA COMPUTAÇÃO II  INSTITUTO METROPOLE DIGITAL   \n",
       "6366  FUNDAMENTOS MATEMÁTICOS DA COMPUTAÇÃO II  INSTITUTO METROPOLE DIGITAL   \n",
       "\n",
       "     situacao_turma  capacidade_aluno                 descricao_horario  \n",
       "6365    CONSOLIDADA                60  246T56 (13/02/2017 - 01/07/2017)  \n",
       "6366    CONSOLIDADA                60  246N12 (13/02/2017 - 01/07/2017)  "
      ]
     },
     "execution_count": 256,
     "metadata": {},
     "output_type": "execute_result"
    }
   ],
   "source": [
    "turmas_imd_2017_1[turmas_imd_2017_1[\"nome\"] == 'FUNDAMENTOS MATEMÁTICOS DA COMPUTAÇÃO II']"
   ]
  },
  {
   "cell_type": "code",
   "execution_count": 218,
   "metadata": {},
   "outputs": [],
   "source": [
    "colunas = [\"id_turma\", \"codigo\", \"nivel_ensino\", \"nome_y\", \"codigo\", \"nivel_ensino\",\n",
    "          \"nome_x\",\"capacidade_aluno\", \"descricao_horario\"]\n",
    "turmas_imd_nomesprof_2017_1 = pd.merge(turmas_imd_2017_1, docentes, on='id_servidor')[colunas]"
   ]
  },
  {
   "cell_type": "code",
   "execution_count": 229,
   "metadata": {},
   "outputs": [],
   "source": [
    "notas_imd_2017_1 = notas_2017_1[notas_2017_1.id_turma.isin(turmas_imd_nomesprof_2017_1.id_turma)]\n",
    "notas_imd_merge_2017_1 = pd.merge(notas_imd_2017_1, turmas_imd_nomesprof_2017_1, on='id_turma')"
   ]
  },
  {
   "cell_type": "code",
   "execution_count": 231,
   "metadata": {},
   "outputs": [
    {
     "data": {
      "text/plain": [
       "REPROVADO POR MÉDIA E POR FALTAS    42\n",
       "REPROVADO                           25\n",
       "CANCELADO                           19\n",
       "APROVADO POR NOTA                   12\n",
       "DESISTENCIA                          5\n",
       "APROVADO                             2\n",
       "TRANCADO                             2\n",
       "Name: descricao, dtype: int64"
      ]
     },
     "execution_count": 231,
     "metadata": {},
     "output_type": "execute_result"
    }
   ],
   "source": [
    "alunos_fmc_2017_1 = notas_imd_merge_2017_1[notas_imd_merge_2017_1.nome_x == 'FUNDAMENTOS MATEMÁTICOS DA COMPUTAÇÃO II']\n",
    "alunos_fmc_2017_1[~alunos_fmc_2017_1.discente.duplicated()].descricao.value_counts()"
   ]
  },
  {
   "cell_type": "markdown",
   "metadata": {},
   "source": [
    "# Turmas e notas no semestre 2017.2"
   ]
  },
  {
   "cell_type": "code",
   "execution_count": 247,
   "metadata": {},
   "outputs": [],
   "source": [
    "turmas_url_2017_2 = 'http://bit.do/turmas_ufrn_2017_2'\n",
    "notas_url_2017_2 = 'http://bit.do/notas_ufrn_2017_2'"
   ]
  },
  {
   "cell_type": "markdown",
   "metadata": {},
   "source": [
    "- Tratando os dados das turmas e notas no semestre 2017.2"
   ]
  },
  {
   "cell_type": "code",
   "execution_count": 248,
   "metadata": {},
   "outputs": [],
   "source": [
    "turmas_2017_2 = pd.read_csv(turmas_url_2017_2, sep=';')\n",
    "notas_2017_2 = pd.read_csv(notas_url_2017_2, sep=';')"
   ]
  },
  {
   "cell_type": "code",
   "execution_count": 249,
   "metadata": {},
   "outputs": [],
   "source": [
    "turmas_2017_2.rename(columns={'id_componente_curricular': 'id_componente'}, inplace=True)\n",
    "turmas_2017_2.id_componente = turmas_2017_2.id_componente.astype(str)"
   ]
  },
  {
   "cell_type": "code",
   "execution_count": 250,
   "metadata": {},
   "outputs": [],
   "source": [
    "colunas = [\"id_turma\",\"id_docente_interno\",\"codigo\",\"nivel_ensino\",\"nome\",\"unidade_responsavel\",\n",
    "          \"situacao_turma\",\"capacidade_aluno\",\"descricao_horario\"]\n",
    "merge_turmas_disciplinas_2017_2 = pd.merge(turmas_2017_2, disciplinas, on='id_componente')[colunas]\n",
    "merge_turmas_disciplinas_2017_2.dropna(inplace=True)"
   ]
  },
  {
   "cell_type": "code",
   "execution_count": 251,
   "metadata": {},
   "outputs": [],
   "source": [
    "turmas_imd_2017_2 = merge_turmas_disciplinas_2017_2[merge_turmas_disciplinas_2017_2.codigo.str.contains(\"IMD\")]\n",
    "turmas_imd_2017_2 = turmas_imd_2017_2[turmas_imd_2017_2.situacao_turma == 'CONSOLIDADA']\n",
    "turmas_imd_2017_2.rename(columns={'id_docente_interno': 'id_servidor'}, inplace=True)\n",
    "turmas_imd_2017_2.capacidade_aluno = turmas_imd_2017_2.capacidade_aluno.astype(np.int64)\n",
    "turmas_imd_2017_2.id_servidor = turmas_imd_2017_2.id_servidor.astype(np.int64)"
   ]
  },
  {
   "cell_type": "code",
   "execution_count": 252,
   "metadata": {},
   "outputs": [
    {
     "data": {
      "text/html": [
       "<div>\n",
       "<style scoped>\n",
       "    .dataframe tbody tr th:only-of-type {\n",
       "        vertical-align: middle;\n",
       "    }\n",
       "\n",
       "    .dataframe tbody tr th {\n",
       "        vertical-align: top;\n",
       "    }\n",
       "\n",
       "    .dataframe thead th {\n",
       "        text-align: right;\n",
       "    }\n",
       "</style>\n",
       "<table border=\"1\" class=\"dataframe\">\n",
       "  <thead>\n",
       "    <tr style=\"text-align: right;\">\n",
       "      <th></th>\n",
       "      <th>id_turma</th>\n",
       "      <th>id_servidor</th>\n",
       "      <th>codigo</th>\n",
       "      <th>nivel_ensino</th>\n",
       "      <th>nome</th>\n",
       "      <th>unidade_responsavel</th>\n",
       "      <th>situacao_turma</th>\n",
       "      <th>capacidade_aluno</th>\n",
       "      <th>descricao_horario</th>\n",
       "    </tr>\n",
       "  </thead>\n",
       "  <tbody>\n",
       "    <tr>\n",
       "      <th>9247</th>\n",
       "      <td>57608415</td>\n",
       "      <td>5757958</td>\n",
       "      <td>IMD0038</td>\n",
       "      <td>GRADUAÇÃO</td>\n",
       "      <td>FUNDAMENTOS MATEMÁTICOS DA COMPUTAÇÃO II</td>\n",
       "      <td>INSTITUTO METROPOLE DIGITAL</td>\n",
       "      <td>CONSOLIDADA</td>\n",
       "      <td>65</td>\n",
       "      <td>246T34 (24/07/2017 - 16/12/2017)</td>\n",
       "    </tr>\n",
       "    <tr>\n",
       "      <th>9248</th>\n",
       "      <td>57608415</td>\n",
       "      <td>24798</td>\n",
       "      <td>IMD0038</td>\n",
       "      <td>GRADUAÇÃO</td>\n",
       "      <td>FUNDAMENTOS MATEMÁTICOS DA COMPUTAÇÃO II</td>\n",
       "      <td>INSTITUTO METROPOLE DIGITAL</td>\n",
       "      <td>CONSOLIDADA</td>\n",
       "      <td>65</td>\n",
       "      <td>246T34 (24/07/2017 - 16/12/2017)</td>\n",
       "    </tr>\n",
       "    <tr>\n",
       "      <th>9249</th>\n",
       "      <td>57608416</td>\n",
       "      <td>5757958</td>\n",
       "      <td>IMD0038</td>\n",
       "      <td>GRADUAÇÃO</td>\n",
       "      <td>FUNDAMENTOS MATEMÁTICOS DA COMPUTAÇÃO II</td>\n",
       "      <td>INSTITUTO METROPOLE DIGITAL</td>\n",
       "      <td>CONSOLIDADA</td>\n",
       "      <td>65</td>\n",
       "      <td>246N12 (24/07/2017 - 16/12/2017)</td>\n",
       "    </tr>\n",
       "  </tbody>\n",
       "</table>\n",
       "</div>"
      ],
      "text/plain": [
       "      id_turma  id_servidor   codigo nivel_ensino  \\\n",
       "9247  57608415      5757958  IMD0038    GRADUAÇÃO   \n",
       "9248  57608415        24798  IMD0038    GRADUAÇÃO   \n",
       "9249  57608416      5757958  IMD0038    GRADUAÇÃO   \n",
       "\n",
       "                                          nome          unidade_responsavel  \\\n",
       "9247  FUNDAMENTOS MATEMÁTICOS DA COMPUTAÇÃO II  INSTITUTO METROPOLE DIGITAL   \n",
       "9248  FUNDAMENTOS MATEMÁTICOS DA COMPUTAÇÃO II  INSTITUTO METROPOLE DIGITAL   \n",
       "9249  FUNDAMENTOS MATEMÁTICOS DA COMPUTAÇÃO II  INSTITUTO METROPOLE DIGITAL   \n",
       "\n",
       "     situacao_turma  capacidade_aluno                 descricao_horario  \n",
       "9247    CONSOLIDADA                65  246T34 (24/07/2017 - 16/12/2017)  \n",
       "9248    CONSOLIDADA                65  246T34 (24/07/2017 - 16/12/2017)  \n",
       "9249    CONSOLIDADA                65  246N12 (24/07/2017 - 16/12/2017)  "
      ]
     },
     "execution_count": 252,
     "metadata": {},
     "output_type": "execute_result"
    }
   ],
   "source": [
    "turmas_imd_2017_2[turmas_imd_2017_2[\"nome\"] == 'FUNDAMENTOS MATEMÁTICOS DA COMPUTAÇÃO II']"
   ]
  },
  {
   "cell_type": "code",
   "execution_count": 253,
   "metadata": {},
   "outputs": [],
   "source": [
    "colunas = [\"id_turma\", \"codigo\", \"nivel_ensino\", \"nome_y\", \"codigo\", \"nivel_ensino\",\n",
    "          \"nome_x\",\"capacidade_aluno\", \"descricao_horario\"]\n",
    "turmas_imd_nomesprof_2017_2 = pd.merge(turmas_imd_2017_2, docentes, on='id_servidor')[colunas]"
   ]
  },
  {
   "cell_type": "code",
   "execution_count": 254,
   "metadata": {},
   "outputs": [],
   "source": [
    "notas_imd_2017_2 = notas_2017_2[notas_2017_2.id_turma.isin(turmas_imd_nomesprof_2017_2.id_turma)]\n",
    "notas_imd_merge_2017_2 = pd.merge(notas_imd_2017_2, turmas_imd_nomesprof_2017_2, on='id_turma')"
   ]
  },
  {
   "cell_type": "code",
   "execution_count": 255,
   "metadata": {},
   "outputs": [
    {
     "data": {
      "text/plain": [
       "APROVADO                            13\n",
       "CANCELADO                            5\n",
       "REPROVADO                            3\n",
       "APROVADO POR NOTA                    3\n",
       "TRANCADO                             2\n",
       "REPROVADO POR MÉDIA E POR FALTAS     1\n",
       "Name: descricao, dtype: int64"
      ]
     },
     "execution_count": 255,
     "metadata": {},
     "output_type": "execute_result"
    }
   ],
   "source": [
    "alunos_fmc_2017_2 = notas_imd_merge_2017_2[notas_imd_merge_2017_2.nome_x == 'PROBABILIDADE']\n",
    "alunos_fmc_2017_2[~alunos_fmc_2017_2.discente.duplicated()].descricao.value_counts()"
   ]
  },
  {
   "cell_type": "code",
   "execution_count": null,
   "metadata": {},
   "outputs": [],
   "source": [
    "# "
   ]
  }
 ],
 "metadata": {
  "kernelspec": {
   "display_name": "Python 3",
   "language": "python",
   "name": "python3"
  },
  "language_info": {
   "codemirror_mode": {
    "name": "ipython",
    "version": 3
   },
   "file_extension": ".py",
   "mimetype": "text/x-python",
   "name": "python",
   "nbconvert_exporter": "python",
   "pygments_lexer": "ipython3",
   "version": "3.6.4"
  }
 },
 "nbformat": 4,
 "nbformat_minor": 2
}
