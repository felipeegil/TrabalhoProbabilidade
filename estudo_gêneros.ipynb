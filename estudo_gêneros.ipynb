{
 "cells": [
  {
   "cell_type": "markdown",
   "metadata": {},
   "source": [
    "# Diferença de gêneros no curso de Tecnologia da Informação \n",
    "- O objetivo desse estudo é analisar a diferença de gêneros no curso de Tecnologia da Informação da Universidade Federal do Rio Grande do Norte. Utilizaremos os dados dísponiveis sobre os ingressantes no portal de dados abertos da univerdade no périodo entre 2013(Primeiro ano em que o curso foi ofertado) a 2016 e no ano de 2018. Infelizmente há um erro nos dados do portal para o ano de 2017.\n"
   ]
  },
  {
   "cell_type": "markdown",
   "metadata": {},
   "source": [
    "# Bibliotecas\n",
    "- Pandas: Utilizado para ler, tratar e extrair informações presentes nos arquivos .csv contendo os dados disponíveis no portal.\n",
    "- Matplotlib: Utilizado para plot dos gráficos com as informações extraidas de cada dataset."
   ]
  },
  {
   "cell_type": "code",
   "execution_count": 2,
   "metadata": {},
   "outputs": [],
   "source": [
    "import pandas as pd\n",
    "import numpy as np\n",
    "import matplotlib.pyplot as plt"
   ]
  },
  {
   "cell_type": "code",
   "execution_count": 3,
   "metadata": {},
   "outputs": [],
   "source": [
    "import rpy2.robjects as robjects\n",
    "%load_ext rpy2.ipython"
   ]
  },
  {
   "cell_type": "code",
   "execution_count": 4,
   "metadata": {},
   "outputs": [],
   "source": [
    "%%R \n",
    "# Carregar a biblioteca genderBR\n",
    "suppressMessages(library(genderBR))"
   ]
  },
  {
   "cell_type": "markdown",
   "metadata": {},
   "source": [
    "# Acessando os dados"
   ]
  },
  {
   "cell_type": "code",
   "execution_count": 5,
   "metadata": {},
   "outputs": [],
   "source": [
    "# Alunos ingressantes em 2013\n",
    "alunos_ingressantes_2013_url = \"http://bit.do/alunos_ufrn2013\"\n",
    "\n",
    "# Alunos ingressantes em 2014\n",
    "alunos_ingressantes_2014_url = \"http://bit.do/alunos_ufrn2014\"\n",
    "\n",
    "# Alunos ingressantes em 2015\n",
    "alunos_ingressantes_2015_url = \"http://bit.do/alunos_ufrn20151\"\n",
    "\n",
    "# Alunos ingressantes em 2016\n",
    "alunos_ingressantes_2016_url = \"http://bit.do/alunos_ufrn2016\"\n",
    "\n",
    "# Alunos ingressantes em 2017\n",
    "alunos_ingressantes_2017_url = \"http://bit.do/alunos_ufrn2017\"\n",
    "\n",
    "# Alunos ingressantes em 2018\n",
    "alunos_ingressantes_2018_url = \"http://bit.do/alunos_ufrn2018\""
   ]
  },
  {
   "cell_type": "markdown",
   "metadata": {},
   "source": [
    "# Tratando os dados dos alunos ingressantes em 2013"
   ]
  },
  {
   "cell_type": "code",
   "execution_count": 6,
   "metadata": {},
   "outputs": [],
   "source": [
    "# Lendo o dataset com os dados dos ingressantes em 2013.\n",
    "alunos_2013 = pd.read_csv(alunos_ingressantes_2013_url, sep=\";\")\n",
    "alunos_bti_2013 = alunos_2013[(alunos_2013.nome_unidade == 'INSTITUTO METROPOLE DIGITAL') & \n",
    "                    (alunos_2013.nivel_ensino == \"GRADUAÇÃO\")][[\"matricula\", \"nome_discente\", \n",
    "                                                           \"ano_ingresso\", \"periodo_ingresso\"]]\n",
    "alunos_bti_2013.reset_index(drop=True,inplace=True)"
   ]
  },
  {
   "cell_type": "code",
   "execution_count": 7,
   "metadata": {},
   "outputs": [],
   "source": [
    "# Criando uma nova coluna, gênero. Utilizando da API GenderBR para definir o gênero de cada aluno\n",
    "# baseado no primeiro nome.\n",
    "generos_2013 = []\n",
    "for nome in alunos_bti_2013.nome_discente:\n",
    "    primeiro_nome = nome.split()[0]\n",
    "    genero = robjects.r.get_gender(primeiro_nome)\n",
    "    genero = genero.r_repr()\n",
    "    genero = genero.strip('\\\"')\n",
    "    if genero.startswith('NA'):\n",
    "        genero = None\n",
    "    generos_2013.append(genero)\n",
    "    \n",
    "alunos_bti_2013[\"generos\"] = generos_2013"
   ]
  },
  {
   "cell_type": "markdown",
   "metadata": {},
   "source": [
    "# Tratando os dados dos alunos ingressantes em 2014"
   ]
  },
  {
   "cell_type": "code",
   "execution_count": 11,
   "metadata": {},
   "outputs": [],
   "source": [
    "# Lendo o dataset com os dados dos ingressantes em 2014.\n",
    "alunos_2014 = pd.read_csv(alunos_ingressantes_2014_url, sep=\";\")\n",
    "alunos_bti_2014 = alunos_2014[(alunos_2014.nome_unidade == 'INSTITUTO METROPOLE DIGITAL') & \n",
    "                    (alunos_2014.nivel_ensino == \"GRADUAÇÃO\")][[\"matricula\", \"nome_discente\", \n",
    "                                                           \"ano_ingresso\", \"periodo_ingresso\"]]\n",
    "alunos_bti_2014.reset_index(drop=True,inplace=True)"
   ]
  },
  {
   "cell_type": "code",
   "execution_count": 12,
   "metadata": {},
   "outputs": [],
   "source": [
    "# Criando uma nova coluna, gênero. Utilizando da API GenderBR para definir o gênero de cada aluno\n",
    "# baseado no primeiro nome.\n",
    "generos_2014 = []\n",
    "for nome in alunos_bti_2014.nome_discente:\n",
    "    primeiro_nome = nome.split()[0]\n",
    "    genero = robjects.r.get_gender(primeiro_nome)\n",
    "    genero = genero.r_repr()\n",
    "    genero = genero.strip('\\\"')\n",
    "    if genero.startswith('NA'):\n",
    "        genero = None\n",
    "    generos_2014.append(genero)\n",
    "    \n",
    "alunos_bti_2014[\"generos\"] = generos_2014"
   ]
  },
  {
   "cell_type": "markdown",
   "metadata": {},
   "source": [
    "# Tratando os dados dos alunos ingressantes em 2015"
   ]
  },
  {
   "cell_type": "code",
   "execution_count": 6,
   "metadata": {},
   "outputs": [],
   "source": [
    "# Lendo o dataset com os dados dos ingressantes em 2015.\n",
    "alunos_2015 = pd.read_csv(alunos_ingressantes_2015_url, sep=\";\")\n",
    "alunos_bti_2015 = alunos_2015[(alunos_2015.nome_unidade == 'INSTITUTO METROPOLE DIGITAL') & \n",
    "                    (alunos_2015.nivel_ensino == \"GRADUAÇÃO\")][[\"matricula\", \"nome_discente\", \n",
    "                                                           \"ano_ingresso\", \"periodo_ingresso\"]]\n",
    "alunos_bti_2015.reset_index(drop=True,inplace=True)"
   ]
  },
  {
   "cell_type": "code",
   "execution_count": 7,
   "metadata": {},
   "outputs": [],
   "source": [
    "# Criando uma nova coluna, gênero. Utilizando da API GenderBR para definir o gênero de cada aluno\n",
    "# baseado no primeiro nome.\n",
    "generos_2015 = []\n",
    "for nome in alunos_bti_2015.nome_discente:\n",
    "    primeiro_nome = nome.split()[0]\n",
    "    genero = robjects.r.get_gender(primeiro_nome)\n",
    "    genero = genero.r_repr()\n",
    "    genero = genero.strip('\\\"')\n",
    "    if genero.startswith('NA'):\n",
    "        genero = None\n",
    "    generos_2015.append(genero)\n",
    "    \n",
    "alunos_bti_2015[\"generos\"] = generos_2015"
   ]
  },
  {
   "cell_type": "markdown",
   "metadata": {},
   "source": [
    "# Tratando os dados dos alunos ingressantes em 2016"
   ]
  },
  {
   "cell_type": "code",
   "execution_count": 17,
   "metadata": {},
   "outputs": [],
   "source": [
    "# Lendo o dataset com os dados dos ingressantes em 2016.\n",
    "alunos_2016 = pd.read_csv(alunos_ingressantes_2016_url, sep=\";\")\n",
    "\n",
    "alunos_bti_2016 = alunos_2016[(alunos_2016.nome_unidade == 'INSTITUTO METROPOLE DIGITAL') & \n",
    "                    (alunos_2016.nivel_ensino == \"GRADUAÇÃO\")][[\"matricula\", \"nome_discente\", \n",
    "                                                           \"ano_ingresso\", \"periodo_ingresso\"]]\n",
    "alunos_bti_2016.reset_index(drop=True,inplace=True)"
   ]
  },
  {
   "cell_type": "code",
   "execution_count": 19,
   "metadata": {},
   "outputs": [],
   "source": [
    "# Criando uma nova coluna, gênero. Utilizando da API GenderBR para definir o gênero de cada aluno\n",
    "# baseado no primeiro nome.\n",
    "generos_2016 = []\n",
    "for nome in alunos_bti_2016.nome_discente:\n",
    "    primeiro_nome = nome.split()[0]\n",
    "    genero = robjects.r.get_gender(primeiro_nome)\n",
    "    genero = genero.r_repr()\n",
    "    genero = genero.strip('\\\"')\n",
    "    if genero.startswith('NA'):\n",
    "        genero = None\n",
    "    generos_2016.append(genero)\n",
    "    \n",
    "alunos_bti_2016[\"generos\"] = generos_2016"
   ]
  },
  {
   "cell_type": "markdown",
   "metadata": {},
   "source": [
    "# Carregando e tratando os dados dos alunos ingressantes em 2018"
   ]
  },
  {
   "cell_type": "code",
   "execution_count": 22,
   "metadata": {},
   "outputs": [],
   "source": [
    "alunos_2018 = pd.read_csv(alunos_ingressantes_2018_url, sep=\";\")\n",
    "\n",
    "alunos_bti_2018 = alunos_2018[(alunos_2018.nome_unidade == 'INSTITUTO METROPOLE DIGITAL') & \n",
    "                    (alunos_2018.nivel_ensino == \"GRADUAÇÃO\")][[\"matricula\", \"nome_discente\", \n",
    "                                                           \"ano_ingresso\", \"periodo_ingresso\"]]\n",
    "alunos_bti_2018.reset_index(drop=True,inplace=True)"
   ]
  },
  {
   "cell_type": "code",
   "execution_count": 23,
   "metadata": {},
   "outputs": [],
   "source": [
    "# Criando uma nova coluna, gênero. Utilizando da API GenderBR para definir o gênero de cada aluno\n",
    "# baseado no primeiro nome.\n",
    "generos_2018 = []\n",
    "for nome in alunos_bti_2018.nome_discente:\n",
    "    primeiro_nome = nome.split()[0]\n",
    "    genero = robjects.r.get_gender(primeiro_nome)\n",
    "    genero = genero.r_repr()\n",
    "    genero = genero.strip('\\\"')\n",
    "    if genero.startswith('NA'):\n",
    "        genero = None\n",
    "    generos_2018.append(genero)\n",
    "    \n",
    "alunos_bti_2018[\"generos\"] = generos_2018"
   ]
  },
  {
   "cell_type": "markdown",
   "metadata": {},
   "source": [
    "# Extraindo os dados necessários\n",
    "- Depois de carregar e tratar todos os datasets, agora iremos extrair os valores da coluna \"generos\"."
   ]
  },
  {
   "cell_type": "code",
   "execution_count": 106,
   "metadata": {},
   "outputs": [
    {
     "data": {
      "text/plain": [
       "(None, None)"
      ]
     },
     "execution_count": 106,
     "metadata": {},
     "output_type": "execute_result"
    }
   ],
   "source": [
    "male = []\n",
    "female = []\n",
    "\n",
    "male_2013, female_2013 = alunos_bti_2013[\"generos\"].value_counts()\n",
    "male.append(male_2013), female.append(female_2013)\n",
    "male_2014, female_2014 = alunos_bti_2014[\"generos\"].value_counts()\n",
    "male.append(male_2014), female.append(female_2014)\n",
    "male_2015, female_2015 = alunos_bti_2015[\"generos\"].value_counts()\n",
    "male.append(male_2015), female.append(female_2015)\n",
    "male_2016, female_2016 = alunos_bti_2016[\"generos\"].value_counts()\n",
    "male.append(male_2016), female.append(female_2016)\n",
    "male_2018, female_2018 = alunos_bti_2018[\"generos\"].value_counts()\n",
    "male.append(male_2018), female.append(female_2018)"
   ]
  },
  {
   "cell_type": "code",
   "execution_count": 125,
   "metadata": {},
   "outputs": [
    {
     "data": {
      "image/png": "[encoded data removed]",
      "text/plain": [
       "<matplotlib.figure.Figure at 0x7fb4da5b1400>"
      ]
     },
     "metadata": {},
     "output_type": "display_data"
    }
   ],
   "source": [
    "years = [2013, 2014, 2015, 2016, 2018]\n",
    "df = pd.DataFrame(np.c_[male, female], index=years)\n",
    "ax = df.plot.bar()\n",
    "ax.legend([\"Homem\", \"Mulher\"])\n",
    "ax.get_legend().set_bbox_to_anchor((0.3, 1))\n",
    "for n in ax.patches:\n",
    "    ax.annotate(\"%d\" %n.get_height(), (n.get_x() + n.get_width()/2, n.get_height()), ha='center', va='center', xytext=(0, 4), textcoords='offset points')"
   ]
  },
  {
   "cell_type": "markdown",
   "metadata": {},
   "source": [
    "# Análise dos dados e conclusão\n",
    "- De acordo com os dados, mesmo com a ausência dos de 2017,é visível que temos uma diferença gritante nos ingressantes de acordo com seu gênero. Apesar do aumento de vagas em 2015, o desvio das alunas que entram no curso apresenta uma diferença maior no ano da mudança, mas nos anos seguintes não se distoa tanto quando comparado aos anos anteriores a 2015.\n",
    "- Porcentagem da quantidade de mulheres em relação ao total de alunos ingressantes\n",
    "        - 2013: 16,45%\n",
    "        - 2014: 11,28%\n",
    "        - 2015: 13,26%\n",
    "        - 2016: 9,49%\n",
    "        - 2018: 12,29%"
   ]
  },
  {
   "cell_type": "code",
   "execution_count": null,
   "metadata": {},
   "outputs": [],
   "source": []
  }
 ],
 "metadata": {
  "kernelspec": {
   "display_name": "Python 3",
   "language": "python",
   "name": "python3"
  },
  "language_info": {
   "codemirror_mode": {
    "name": "ipython",
    "version": 3
   },
   "file_extension": ".py",
   "mimetype": "text/x-python",
   "name": "python",
   "nbconvert_exporter": "python",
   "pygments_lexer": "ipython3",
   "version": "3.6.4"
  }
 },
 "nbformat": 4,
 "nbformat_minor": 2
}
